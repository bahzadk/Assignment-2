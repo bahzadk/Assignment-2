{
 "cells": [
  {
   "cell_type": "code",
   "execution_count": null,
   "metadata": {},
   "outputs": [],
   "source": [
    "#Q1)Write a program which takes 5 inputs from user for different subject’s\n",
    "#marks, total it and generate mark sheet using grades ?\n",
    "sub1=input(\"Enter marks of the first subject: \")\n",
    "sub2=input(\"Enter marks of the second subject: \")\n",
    "sub3=input(\"Enter marks of the third subject: \")\n",
    "sub4=input(\"Enter marks of the fourth subject: \")\n",
    "sub5=input(\"Enter marks of the fifth subject: \")\n",
    "sum=(int(sub1)+int(sub2)+int(sub3)+int(sub4)+int(sub5));\n",
    "total=500;\n",
    "per=(sum*100/total);\n",
    "print(\"percentage is\",per)\n",
    "if(per>=90):\n",
    "    print(\"Grade: A\")\n",
    "elif(per>=80 and per<90):\n",
    "    print(\"Grade: B\")\n",
    "elif(per>=70 and per<80):\n",
    "    print(\"Grade: C\")\n",
    "elif(per>=60 and per<70):\n",
    "    print(\"Grade: D\")\n",
    "else:\n",
    "    print(\"Grade: F\")"
   ]
  },
  {
   "cell_type": "code",
   "execution_count": null,
   "metadata": {},
   "outputs": [],
   "source": [
    "#Q2)Write a program which take input from user and identify that the given\n",
    "#number is even or odd?\n",
    "num = int(input(\"Enter a number: \"))\n",
    "x = num % 2\n",
    "if x > 0:\n",
    "    print(\"This is an odd number.\")\n",
    "else:\n",
    "    print(\"This is an even number.\")"
   ]
  },
  {
   "cell_type": "code",
   "execution_count": null,
   "metadata": {},
   "outputs": [],
   "source": [
    "#Q3)Write a program which print the length of the list?\n",
    "num=len([1,2,3,4,5,6,7])\n",
    "print(\"the length of list is :-\",num)"
   ]
  },
  {
   "cell_type": "code",
   "execution_count": null,
   "metadata": {},
   "outputs": [],
   "source": [
    "#Q4)Write a Python program to sum all the numeric items in a list?\n",
    "total = 0\n",
    "list1 = [11, 5, 17, 18, 23]  \n",
    "for ele in range(0, len(list1)): \n",
    "    total = total + list1[ele]  \n",
    "print(\"Sum of all elements in given list: \", total)"
   ]
  },
  {
   "cell_type": "code",
   "execution_count": null,
   "metadata": {},
   "outputs": [],
   "source": [
    "#Q5)Write a Python program to get the largest number from a numeric list\n",
    "list1 = [5, 9, 2, 22, 7] \n",
    "print(\"Largest element is:\", max(list1))"
   ]
  },
  {
   "cell_type": "code",
   "execution_count": null,
   "metadata": {},
   "outputs": [],
   "source": [
    "#Q6)Take a list, say for example this one:\n",
    "#a = [1, 1, 2, 3, 5, 8, 13, 21, 34, 55, 89]\n",
    "#and write a program that prints out all the elements of the list that are\n",
    "#less than 5.\n",
    "a = [-1, 0, 1, 4, 2, 3, 5, 8, 13, 21, 34, 55, 89]\n",
    "\n",
    "for i in a:\n",
    "\n",
    "    if i < 5:\n",
    "\n",
    "        print(i)"
   ]
  },
  {
   "cell_type": "markdown",
   "metadata": {},
   "source": []
  }
 ],
 "metadata": {
  "kernelspec": {
   "display_name": "Python 3",
   "language": "python",
   "name": "python3"
  },
  "language_info": {
   "codemirror_mode": {
    "name": "ipython",
    "version": 3
   },
   "file_extension": ".py",
   "mimetype": "text/x-python",
   "name": "python",
   "nbconvert_exporter": "python",
   "pygments_lexer": "ipython3",
   "version": "3.7.4"
  }
 },
 "nbformat": 4,
 "nbformat_minor": 2
}
